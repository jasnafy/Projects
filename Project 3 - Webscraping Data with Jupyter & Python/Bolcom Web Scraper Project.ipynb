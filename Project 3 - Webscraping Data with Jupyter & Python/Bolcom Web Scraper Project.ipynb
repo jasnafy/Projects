{
 "cells": [
  {
   "cell_type": "code",
   "execution_count": 76,
   "id": "fb210913-ee72-4437-8017-524571c1aeae",
   "metadata": {},
   "outputs": [],
   "source": [
    "from bs4 import BeautifulSoup\n",
    "import requests\n",
    "import time\n",
    "import datetime\n",
    "import smtplib"
   ]
  },
  {
   "cell_type": "code",
   "execution_count": 77,
   "id": "796bfa4e-fe7b-4d6a-8a47-6690ec64315f",
   "metadata": {},
   "outputs": [
    {
     "name": "stdout",
     "output_type": "stream",
     "text": [
      "Programmer's Problem Heren T-shirt - programeren - ICT - computer - techniek - technologie\n",
      "24.95\n"
     ]
    },
    {
     "data": {
      "text/plain": [
       "str"
      ]
     },
     "execution_count": 77,
     "metadata": {},
     "output_type": "execute_result"
    }
   ],
   "source": [
    "URL = 'https://www.bol.com/nl/nl/p/programmer-s-problem-heren-t-shirt-programeren-ict-computer-techniek-technologie/9300000196269248/?bltgh=rUePndrHXcaK5ayAS0pGpA.2_6.20.ProductImage'\n",
    "\n",
    "headers = {\"User-Agent\": \"Mozilla/5.0 (Windows NT 10.0; Win64; x64) AppleWebKit/537.36 (KHTML, like Gecko) Chrome/131.0.0.0 Safari/537.36\", \"Accept-Encoding\":\"gzip, deflate\", \"Accept\":\"text/html,application/xhtml+xml,application/xml;q=0.9,*/*;q=0.8\", \"DNT\":\"1\",\"Connection\":\"close\", \"Upgrade-Insecure-Requests\":\"1\"}\n",
    "\n",
    "page = requests.get(URL, headers=headers)\n",
    "\n",
    "soup1 = BeautifulSoup(page.content, \"html.parser\")\n",
    "soup2 = BeautifulSoup(soup1.prettify(), \"html.parser\")\n",
    "\n",
    "title_element = soup2.find('h1', class_='page-heading')\n",
    "title_text = title_element.get_text(strip=True)\n",
    "\n",
    "price_element = soup2.find(class_='promo-price')\n",
    "price_parts = [node.get_text(strip=True) for node in price_element.children if node.name != 'sup']\n",
    "price_fraction = price_element.find('sup').get_text(strip=True) if price_element.find('sup') else '00'\n",
    "complete_price = ''.join(price_parts) + '.' + price_fraction \n",
    "print(title_text)\n",
    "print(complete_price)\n",
    "type(complete_price)"
   ]
  },
  {
   "cell_type": "code",
   "execution_count": 78,
   "id": "af71fe2e-f7ae-4a32-a176-1be7ac49f13f",
   "metadata": {},
   "outputs": [
    {
     "name": "stdout",
     "output_type": "stream",
     "text": [
      "2024-11-27\n"
     ]
    }
   ],
   "source": [
    "today = datetime.date.today()\n",
    "print(today)"
   ]
  },
  {
   "cell_type": "code",
   "execution_count": 79,
   "id": "b64978c9-07eb-4b04-afec-eb6c6473bfc4",
   "metadata": {},
   "outputs": [],
   "source": [
    "import csv\n",
    "\n",
    "header = ['Title', 'Price', 'Date']\n",
    "data = [title_text, complete_price, today]\n",
    "\n",
    "with open('BolcomWebScraperDataset.csv', 'w', newline='', encoding='UTF8') as f:\n",
    "    writer = csv.writer(f)\n",
    "    writer.writerow(header)\n",
    "    writer.writerow(data)\n",
    "\n"
   ]
  },
  {
   "cell_type": "code",
   "execution_count": 80,
   "id": "8c22538e-0e37-4a81-8cfd-9802c83ebf08",
   "metadata": {},
   "outputs": [
    {
     "name": "stdout",
     "output_type": "stream",
     "text": [
      "                                               Title  Price        Date\n",
      "0  Programmer's Problem Heren T-shirt - programer...  24.95  2024-11-27\n"
     ]
    }
   ],
   "source": [
    "import pandas as pd\n",
    "\n",
    "csvdata = pd.read_csv(r'C:\\Users\\jasna\\BolcomWebScraperDataset.csv')\n",
    "print(csvdata)"
   ]
  },
  {
   "cell_type": "code",
   "execution_count": 81,
   "id": "aa858867-f18b-4e85-9472-cd23018405c5",
   "metadata": {},
   "outputs": [],
   "source": [
    "with open('BolcomWebScraperDataset.csv', 'a+', newline='', encoding='UTF8') as f:\n",
    "    writer = csv.writer(f)\n",
    "    writer.writerow(data)\n"
   ]
  },
  {
   "cell_type": "code",
   "execution_count": null,
   "id": "599aaa42-62d3-4d22-9f9d-c8b2cd053fb1",
   "metadata": {},
   "outputs": [],
   "source": [
    "def send_mail():\n",
    "    server = smtplib.SMTP_SSL('smtp.gmail.com',465)\n",
    "    server.ehlo()\n",
    "    #server.starttls()\n",
    "    server.ehlo()\n",
    "    server.login('testemail123@gmail.com','testpassword')\n",
    "    \n",
    "    subject = \"Price Alert T-Shirt!\"\n",
    "    body = \"The price of the T-Shirt is now below 20 euros.\"\n",
    "   \n",
    "    msg = f\"Subject: {subject}\\n\\n{body}\"\n",
    "    \n",
    "    server.sendmail(\n",
    "        'testemail123@gmail.com',\n",
    "        msg\n",
    "     \n",
    "    )"
   ]
  },
  {
   "cell_type": "code",
   "execution_count": 82,
   "id": "27ddb2b1-0baf-482c-a504-92557538054e",
   "metadata": {},
   "outputs": [],
   "source": [
    "def check_price():\n",
    "    URL = 'https://www.bol.com/nl/nl/p/programmer-s-problem-heren-t-shirt-programeren-ict-computer-techniek-technologie/9300000196269248/?bltgh=rUePndrHXcaK5ayAS0pGpA.2_6.20.ProductImage'\n",
    "\n",
    "    headers = {\"User-Agent\": \"Mozilla/5.0 (Windows NT 10.0; Win64; x64) AppleWebKit/537.36 (KHTML, like Gecko) Chrome/131.0.0.0 Safari/537.36\", \"Accept-Encoding\":\"gzip, deflate\", \"Accept\":\"text/html,application/xhtml+xml,application/xml;q=0.9,*/*;q=0.8\", \"DNT\":\"1\",\"Connection\":\"close\", \"Upgrade-Insecure-Requests\":\"1\"}\n",
    "\n",
    "    page = requests.get(URL, headers=headers)\n",
    "\n",
    "    soup1 = BeautifulSoup(page.content, \"html.parser\")\n",
    "    soup2 = BeautifulSoup(soup1.prettify(), \"html.parser\")\n",
    "\n",
    "    title_element = soup2.find('h1', class_='page-heading')\n",
    "    title_text = title_element.get_text(strip=True)\n",
    "\n",
    "    price_element = soup2.find(class_='promo-price')\n",
    "    price_parts = [node.get_text(strip=True) for node in price_element.children if node.name != 'sup']\n",
    "    price_fraction = price_element.find('sup').get_text(strip=True) if price_element.find('sup') else '00'\n",
    "    complete_price = ''.join(price_parts) + '.' + price_fraction \n",
    "\n",
    "    today = datetime.date.today()\n",
    "\n",
    "    header = ['Title', 'Price', 'Date']\n",
    "    data = [title_text, complete_price, today]\n",
    "\n",
    "    with open('BolcomWebScraperDataset.csv', 'a+', newline='', encoding='UTF8') as f:\n",
    "        writer = csv.writer(f)\n",
    "        writer.writerow(data)\n",
    "\n",
    "    if(complete_price < 20):\n",
    "        send_mail()"
   ]
  },
  {
   "cell_type": "code",
   "execution_count": 83,
   "id": "073126c6-3d85-48d4-b886-e9ccd492eb78",
   "metadata": {},
   "outputs": [
    {
     "ename": "KeyboardInterrupt",
     "evalue": "",
     "output_type": "error",
     "traceback": [
      "\u001b[1;31m---------------------------------------------------------------------------\u001b[0m",
      "\u001b[1;31mKeyboardInterrupt\u001b[0m                         Traceback (most recent call last)",
      "Cell \u001b[1;32mIn[83], line 3\u001b[0m\n\u001b[0;32m      1\u001b[0m \u001b[38;5;28;01mwhile\u001b[39;00m(\u001b[38;5;28;01mTrue\u001b[39;00m):\n\u001b[0;32m      2\u001b[0m     check_price()\n\u001b[1;32m----> 3\u001b[0m     time\u001b[38;5;241m.\u001b[39msleep(\u001b[38;5;241m3\u001b[39m)\n",
      "\u001b[1;31mKeyboardInterrupt\u001b[0m: "
     ]
    }
   ],
   "source": [
    "while(True):\n",
    "    check_price()\n",
    "    time.sleep(3)"
   ]
  },
  {
   "cell_type": "code",
   "execution_count": null,
   "id": "9f764470-6e49-47c6-88de-93443471493b",
   "metadata": {},
   "outputs": [],
   "source": [
    "import pandas as pd\n",
    "\n",
    "csvdata = pd.read_csv(r'C:\\Users\\jasna\\BolcomWebScraperDataset.csv')\n",
    "print(csvdata)"
   ]
  }
 ],
 "metadata": {
  "kernelspec": {
   "display_name": "Python 3 (ipykernel)",
   "language": "python",
   "name": "python3"
  },
  "language_info": {
   "codemirror_mode": {
    "name": "ipython",
    "version": 3
   },
   "file_extension": ".py",
   "mimetype": "text/x-python",
   "name": "python",
   "nbconvert_exporter": "python",
   "pygments_lexer": "ipython3",
   "version": "3.12.7"
  }
 },
 "nbformat": 4,
 "nbformat_minor": 5
}
